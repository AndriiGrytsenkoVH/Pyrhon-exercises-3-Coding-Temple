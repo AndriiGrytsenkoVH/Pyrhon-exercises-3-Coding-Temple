{
 "cells": [
  {
   "cell_type": "markdown",
   "metadata": {},
   "source": [
    "#### Whiteboard Approach\n",
    "\n",
    "1. What are the input(s)?\n",
    "2. What are the output(s)?\n",
    "3. Consider constraints and edge cases\n",
    "4. Write out steps logically (No python)\n",
    "5. Pseudocode\n",
    "6. Code"
   ]
  },
  {
   "cell_type": "markdown",
   "metadata": {},
   "source": [
    "### Exercise 1\n",
    "\n",
    "Given an array of positive integers `nums`, return a list of all of the negative integers.<br>\n",
    "Ex. 1<br>\n",
    "nums = [1, 3, 5, 7, 8]<br>\n",
    "Expected Output: [-1, -3, -5, -7, -8]<br>\n",
    "\n",
    "Ex. 2<br>\n",
    "nums = [100, 534, 32, 15, 77, 222, 788, 345, 75645, 22]<br>\n",
    "Expected Output: [-100, -534, -32, -15, -77, -222, -788, -345, -75645, -22]<br>"
   ]
  },
  {
   "cell_type": "code",
   "execution_count": 4,
   "metadata": {},
   "outputs": [
    {
     "name": "stdout",
     "output_type": "stream",
     "text": [
      "[-1, -3, -5, -7, -8]\n",
      "Expected Output: [-1, -3, -5, -7, -8]\n",
      "[-100, -534, -32, -15, -77, -222, -788, -345, -75645, -22]\n",
      "Expected Output: [-100, -534, -32, -15, -77, -222, -788, -345, -75645, -22]\n",
      "[]\n",
      "Expected Output: []\n"
     ]
    }
   ],
   "source": [
    "# 1. Inputs:\n",
    "#   a list called *nums* with positive integers\n",
    "# 2. Outputs:\n",
    "#   a list of negative integers (using return)\n",
    "# 3. Constraints and Edge:\n",
    "#   Assuming that *nums* is positive integers\n",
    "#   If *nums* is empty, return empty list\n",
    "# 4. Logical steps:\n",
    "#   take each element of nums, make it negative and add it to new list\n",
    "# 5. Pseudocode\n",
    "#   loop over *nums*\n",
    "#   make each element negative\n",
    "#   add new element to new list\n",
    "#       Can be done with list comprehension \n",
    "# 6. Code\n",
    "\n",
    "def negativize(nums):\n",
    "    return [-x for x in nums]\n",
    "\n",
    "# Test\n",
    "test_nums = [1, 3, 5, 7, 8]\n",
    "print(negativize(test_nums))  \n",
    "print(\"Expected Output: [-1, -3, -5, -7, -8]\")\n",
    "test_nums = [100, 534, 32, 15, 77, 222, 788, 345, 75645, 22]\n",
    "print(negativize(test_nums))\n",
    "print(\"Expected Output: [-100, -534, -32, -15, -77, -222, -788, -345, -75645, -22]\")\n",
    "test_nums = []\n",
    "print(negativize(test_nums))\n",
    "print(\"Expected Output: []\")\n"
   ]
  },
  {
   "cell_type": "markdown",
   "metadata": {},
   "source": [
    "### Exercise 2\n",
    "\n",
    "Given a string, return a list of all of the digits in the string.<br>\n",
    "Ex. 1 <br>\n",
    "address = \"123 Real Street, Apt. 2, Springfield, OR 43498\"<br>\n",
    "Expected Output: ['1', '2', '3', '2', '4', '3', '4', '9', '8']<br>\n",
    "\n",
    "Ex. 2 <br>\n",
    "sentence = \"My phone number is (555) 555-4321\"<br>\n",
    "Expected Output: ['5', '5', '5', '5', '5', '5', '4', '3', '2', '1']<br>"
   ]
  },
  {
   "cell_type": "code",
   "execution_count": 19,
   "metadata": {},
   "outputs": [
    {
     "name": "stdout",
     "output_type": "stream",
     "text": [
      "['1', '2', '3', '2', '4', '3', '4', '9', '8']\n",
      "Expected Output: ['1', '2', '3', '2', '4', '3', '4', '9', '8']\n",
      "['5', '5', '5', '5', '5', '5', '4', '3', '2', '1']\n",
      "Expected Output: ['5', '5', '5', '5', '5', '5', '4', '3', '2', '1']\n",
      "[]\n",
      "Expected Output: []\n",
      "[]\n",
      "Expected Output: []\n"
     ]
    }
   ],
   "source": [
    "# 1. Inputs:\n",
    "#   a string\n",
    "# 2. Outputs:\n",
    "#   a list of chars representing numbers\n",
    "# 3. Constraints and Edge:\n",
    "#   if string is empty, may return empty list\n",
    "#   if string does not contain digits, may return empty list \n",
    "# 4. Logical Steps:\n",
    "#   go through string and add chars that are digits to a new list \n",
    "# 5. Pseudocode:\n",
    "#   loop over string\n",
    "#   check if a char has ASCII values from 48 to 57 inclusively ('0' to '9')\n",
    "#       function ord() returns chars ASCII values\n",
    "#   if so, add to a new list\n",
    "#       Can be done in list comprehension\n",
    "# 6. Code:\n",
    "\n",
    "def digitize(a_string):\n",
    "    return [c for c in a_string if 48 <= ord(c) <= 57]\n",
    "\n",
    "# Test\n",
    "test_string = \"123 Real Street, Apt. 2, Springfield, OR 43498\"\n",
    "print(digitize(test_string))\n",
    "print(\"Expected Output: ['1', '2', '3', '2', '4', '3', '4', '9', '8']\")\n",
    "test_string = \"My phone number is (555) 555-4321\"\n",
    "print(digitize(test_string))\n",
    "print(\"Expected Output: ['5', '5', '5', '5', '5', '5', '4', '3', '2', '1']\")\n",
    "test_string = \"\"\n",
    "print(digitize(test_string))\n",
    "print(\"Expected Output: []\")\n",
    "test_string = \"qwertyuiopasdfghjkl;zxcvbnmQWERTYUIOP{ASDFGHJKL:ZXCVBNM<>\"\n",
    "print(digitize(test_string))\n",
    "print(\"Expected Output: []\")\n",
    "\n"
   ]
  },
  {
   "cell_type": "markdown",
   "metadata": {},
   "source": [
    "### Exercise 3\n",
    "\n",
    "Given a string `digits`, return a **string** of the digits + 1<br>\n",
    "\n",
    "Ex. 1<br>\n",
    "digits = '123'<br>\n",
    "Expected Output: '124'<br>\n",
    "\n",
    "Ex. 2<br>\n",
    "digits = '99'<br>\n",
    "Expected Output: '100'<br>"
   ]
  },
  {
   "cell_type": "code",
   "execution_count": 26,
   "metadata": {},
   "outputs": [
    {
     "name": "stdout",
     "output_type": "stream",
     "text": [
      "124\n",
      "Expected Output: '124'\n",
      "100\n",
      "Expected Output: '100'\n",
      "Input can't be empty. If 0 is intended, pass '0'\n",
      "None\n",
      "Expected Output: Input can't be empty. If 0 is intended, pass '0'\n",
      "Invalid characters. Use only digits\n",
      "None\n",
      "Expected Output: Invalid characters. Use only digits\n",
      "-29\n",
      "Expected Output: '-29'\n"
     ]
    }
   ],
   "source": [
    "# 1. Inputs:\n",
    "#   string of digits\n",
    "# 2. Output:\n",
    "#   a steing\n",
    "# 3. Assumptions and Edge\n",
    "#   if input string has invalid characters, return \"Invalid characters. Use only digits\"\n",
    "#   if input string is empty, return \"Input can't be empty. If 0 is intended, pass \"0\"\"\n",
    "#   negative numbers are allowed and valid\n",
    "# 4. Logical steps\n",
    "#   check all edge cases\n",
    "#   convert to int, add 1, convert back, return\n",
    "# 5. Pseudocode\n",
    "#   check if string is empty\n",
    "#       if so, exit with an error\n",
    "#   check if string has invalid characters\n",
    "#       if so, exit with an error\n",
    "#   convert string to int\n",
    "#   add 1 to it\n",
    "#   convert back to string and return\n",
    "# 6. Code\n",
    "\n",
    "def add_1(num_string):\n",
    "    try:\n",
    "        return str(int(num_string)+1)\n",
    "    except:\n",
    "        # exception reached only if int fails\n",
    "        # either if input contains invalid characters\n",
    "        # or if its empty\n",
    "        # knowing that exception in reached, we check if input was empty and print appropriate error message with suggestions\n",
    "        if num_string:\n",
    "            print(\"Invalid characters. Use only digits\")\n",
    "        else:\n",
    "            print(\"Input can't be empty. If 0 is intended, pass '0'\")\n",
    "        \n",
    "# Test\n",
    "test_string = '123'\n",
    "print(add_1(test_string))\n",
    "print(\"Expected Output: '124'\")\n",
    "test_string = '99'\n",
    "print(add_1(test_string))\n",
    "print(\"Expected Output: '100'\")\n",
    "test_string = ''\n",
    "print(add_1(test_string))\n",
    "print(\"Expected Output: Input can't be empty. If 0 is intended, pass '0'\")\n",
    "test_string = '123abc'\n",
    "print(add_1(test_string))\n",
    "print(\"Expected Output: Invalid characters. Use only digits\")\n",
    "test_string = '-30'\n",
    "print(add_1(test_string))\n",
    "print(\"Expected Output: '-29'\")\n",
    "\n"
   ]
  }
 ],
 "metadata": {
  "kernelspec": {
   "display_name": "Python 3.10.8 64-bit",
   "language": "python",
   "name": "python3"
  },
  "language_info": {
   "codemirror_mode": {
    "name": "ipython",
    "version": 3
   },
   "file_extension": ".py",
   "mimetype": "text/x-python",
   "name": "python",
   "nbconvert_exporter": "python",
   "pygments_lexer": "ipython3",
   "version": "3.10.8"
  },
  "orig_nbformat": 4,
  "vscode": {
   "interpreter": {
    "hash": "26de051ba29f2982a8de78e945f0abaf191376122a1563185a90213a26c5da77"
   }
  }
 },
 "nbformat": 4,
 "nbformat_minor": 2
}
